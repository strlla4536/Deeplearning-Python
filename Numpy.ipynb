{
  "nbformat": 4,
  "nbformat_minor": 0,
  "metadata": {
    "colab": {
      "name": "Numpy",
      "provenance": [],
      "collapsed_sections": [],
      "authorship_tag": "ABX9TyMhagHxlJirpQYRXMx3aWoW",
      "include_colab_link": true
    },
    "kernelspec": {
      "name": "python3",
      "display_name": "Python 3"
    }
  },
  "cells": [
    {
      "cell_type": "markdown",
      "metadata": {
        "id": "view-in-github",
        "colab_type": "text"
      },
      "source": [
        "<a href=\"https://colab.research.google.com/github/strlla4536/Deeplearning-Python/blob/main/Numpy.ipynb\" target=\"_parent\"><img src=\"https://colab.research.google.com/assets/colab-badge.svg\" alt=\"Open In Colab\"/></a>"
      ]
    },
    {
      "cell_type": "markdown",
      "metadata": {
        "id": "JO1k317zVLj7"
      },
      "source": [
        "#library(=package)와 import\n",
        "* 함수들이 뭉쳐진 하나의 .py 파일 안에 이루어진것이 모듈\n",
        "* 여러개의 모듈을 그룹화하면 패키지\n",
        "* 함수의 묶음 = 모듈\n",
        "* 모듈의 묶음 = 라이브러리\n",
        "* 라이브러리와 모듈의 묶음 = 라이브러리\n",
        "\n",
        "*파일탐색기와 유사한 구조를 가진 것으로 이해 가능*\n",
        "\n",
        "#패키지 종류\n",
        "* pandas : 데이터 분석\n",
        "* numpy : 수학, 과학 계산 (벡터, 행렬, 수치 등을 계산)\n",
        "* matplotlib : 시각화"
      ]
    },
    {
      "cell_type": "markdown",
      "metadata": {
        "id": "oxCM63dkV-sT"
      },
      "source": [
        "# 배열 , 벡터\n",
        "1. array 배열 : 여러 값들의 묶음\n",
        "2. 1차원 배열 ; np.array([1,2,3,4])\n",
        "3. 2차원 배열 ; np.array([1,2,3],[4,5,6])\n",
        "\n",
        "4. zeros : 벡터 원소 다 0으로 채움\n",
        "5. ones : 벡터 원소 다 1로 채움"
      ]
    },
    {
      "cell_type": "code",
      "metadata": {
        "colab": {
          "base_uri": "https://localhost:8080/"
        },
        "id": "xXwUYbWlV9QC",
        "outputId": "2fb41a46-6eac-4124-c157-3fe328dee001"
      },
      "source": [
        "import numpy as np\n",
        "import matplotlib.pyplot as plt\n",
        "\n",
        "a= np.array([1,2,3,4])\n",
        "b = np.zeros(10)   #b 라는 10차원 벡터 잡는데 초기값 다 0 (type : float) ==> 0. 이라는 실수 형태\n",
        "print(a)\n",
        "print(b)\n",
        "print(b[0])\n",
        "print(b[0:5])"
      ],
      "execution_count": null,
      "outputs": [
        {
          "output_type": "stream",
          "text": [
            "[1 2 3 4]\n",
            "[0. 0. 0. 0. 0. 0. 0. 0. 0. 0.]\n",
            "0.0\n",
            "[0. 0. 0. 0. 0.]\n"
          ],
          "name": "stdout"
        }
      ]
    },
    {
      "cell_type": "code",
      "metadata": {
        "colab": {
          "base_uri": "https://localhost:8080/"
        },
        "id": "c01STkAjVIwD",
        "outputId": "0cd4d5fe-da0e-4138-e733-1584ce5c4c7e"
      },
      "source": [
        "c=np.ones(10)\n",
        "print(c[0:5])\n",
        "\n",
        "d=np.ones(10)*5   #1로 채워진 원소들을 5로 바꿈\n",
        "print(d[0:7])\n",
        "\n",
        "e=np.ones([2,2])  #2*2행렬\n",
        "print(e)"
      ],
      "execution_count": null,
      "outputs": [
        {
          "output_type": "stream",
          "text": [
            "[1. 1. 1. 1. 1.]\n",
            "[5. 5. 5. 5. 5. 5. 5.]\n",
            "[[1. 1.]\n",
            " [1. 1.]]\n"
          ],
          "name": "stdout"
        }
      ]
    },
    {
      "cell_type": "markdown",
      "metadata": {
        "id": "bj3YLPUUZzES"
      },
      "source": [
        "정렬 Arange  : 배열 만들 때 범위 지정 위해 사용"
      ]
    },
    {
      "cell_type": "code",
      "metadata": {
        "colab": {
          "base_uri": "https://localhost:8080/"
        },
        "id": "vv59sYzIZ9uP",
        "outputId": "3f2882c2-8e39-4961-fd5f-5bfdd3ca94c7"
      },
      "source": [
        "f=np.arange(1,2,0.1)   #1 이상 2 미만을 0.1 간격으로\n",
        "print(f)\n",
        "print(len(f))\n",
        "\n",
        "g=np.arange(0,np.pi,0.05)    #0~3.14까지 0.05 간격으로\n",
        "print(g)\n",
        "print(len(g))"
      ],
      "execution_count": null,
      "outputs": [
        {
          "output_type": "stream",
          "text": [
            "[1.  1.1 1.2 1.3 1.4 1.5 1.6 1.7 1.8 1.9]\n",
            "10\n",
            "[0.   0.05 0.1  0.15 0.2  0.25 0.3  0.35 0.4  0.45 0.5  0.55 0.6  0.65\n",
            " 0.7  0.75 0.8  0.85 0.9  0.95 1.   1.05 1.1  1.15 1.2  1.25 1.3  1.35\n",
            " 1.4  1.45 1.5  1.55 1.6  1.65 1.7  1.75 1.8  1.85 1.9  1.95 2.   2.05\n",
            " 2.1  2.15 2.2  2.25 2.3  2.35 2.4  2.45 2.5  2.55 2.6  2.65 2.7  2.75\n",
            " 2.8  2.85 2.9  2.95 3.   3.05 3.1 ]\n",
            "63\n"
          ],
          "name": "stdout"
        }
      ]
    },
    {
      "cell_type": "markdown",
      "metadata": {
        "id": "MPgafIwaafE2"
      },
      "source": [
        "matplotlib as plt"
      ]
    },
    {
      "cell_type": "code",
      "metadata": {
        "colab": {
          "base_uri": "https://localhost:8080/",
          "height": 513
        },
        "id": "t5wHClNuaj8z",
        "outputId": "c5c55883-10ce-48ab-e233-26c03181c2d2"
      },
      "source": [
        "g=np.arange(0,np.pi,0.05)\n",
        "\n",
        "plt.plot(g,np.sin(g))\n",
        "plt.show()\n",
        "#0부터 pi까지 sin 함수가 예쁘게 나옴\n",
        "\n",
        "plt.plot(g, np.cos(g))\n",
        "plt.show()"
      ],
      "execution_count": null,
      "outputs": [
        {
          "output_type": "display_data",
          "data": {
            "image/png": "[encoded data removed]",
            "text/plain": [
              "<Figure size 432x288 with 1 Axes>"
            ]
          },
          "metadata": {
            "tags": [],
            "needs_background": "light"
          }
        },
        {
          "output_type": "display_data",
          "data": {
            "image/png": "[encoded data removed]",
            "text/plain": [
              "<Figure size 432x288 with 1 Axes>"
            ]
          },
          "metadata": {
            "tags": [],
            "needs_background": "light"
          }
        }
      ]
    },
    {
      "cell_type": "markdown",
      "metadata": {
        "id": "gQyizeZLbTwG"
      },
      "source": [
        "    Practice"
      ]
    },
    {
      "cell_type": "code",
      "metadata": {
        "colab": {
          "base_uri": "https://localhost:8080/",
          "height": 265
        },
        "id": "4IWt2zRAbKg4",
        "outputId": "644a7e2a-cb06-42ae-ef05-8efb4d68e052"
      },
      "source": [
        "import numpy as np\n",
        "import matplotlib.pyplot as plt \n",
        "\n",
        "xd=np.arange(0,np.pi,0.02)\n",
        "nlen=len(xd) #nlen=number of x interval ; x의 정의구역 길이(0.02간격)\n",
        "hh=0.02\n",
        "ff=np.sin(xd) \n",
        "#np라는라이브러리에 sin이라는 함수가 있는데, xd라는 벡터를 대입했더니 ff라는 값을 나타냄\n",
        "plt.plot(xd,ff) #그래프를 그리는 lib\n",
        "plt.show()"
      ],
      "execution_count": null,
      "outputs": [
        {
          "output_type": "display_data",
          "data": {
            "image/png": "[encoded data removed]",
            "text/plain": [
              "<Figure size 432x288 with 1 Axes>"
            ]
          },
          "metadata": {
            "tags": [],
            "needs_background": "light"
          }
        }
      ]
    },
    {
      "cell_type": "code",
      "metadata": {
        "colab": {
          "base_uri": "https://localhost:8080/",
          "height": 265
        },
        "id": "Bmst2qRLb_IX",
        "outputId": "e3f37eca-a83b-490d-8ae1-7b4bd7166fe2"
      },
      "source": [
        "#sin 함수 미분하기\n",
        "import numpy as np\n",
        "import matplotlib.pyplot as plt\n",
        "\n",
        "xx=np.arange(0,np.pi,0.02)\n",
        "hh=0.02\n",
        "ff=np.sin(xx)\n",
        "df=np.zeros(len(ff))  #df=미분값\n",
        "\n",
        "for ii in range(len(ff)-1):      #ii+1이 있으므로 맨 마지막꺼는 계산이 안됨. len(ff)-1 해줘야함\n",
        "  df[ii]=(ff[ii+1]-ff[ii])/hh\n",
        "df[len(ff)-1]=(ff[len(ff)-1]-ff[len(ff)-2])/hh\n",
        "\n",
        "plt.plot(xx,df)\n",
        "plt.show()"
      ],
      "execution_count": null,
      "outputs": [
        {
          "output_type": "display_data",
          "data": {
            "image/png": "[encoded data removed]",
            "text/plain": [
              "<Figure size 432x288 with 1 Axes>"
            ]
          },
          "metadata": {
            "tags": [],
            "needs_background": "light"
          }
        }
      ]
    },
    {
      "cell_type": "code",
      "metadata": {
        "colab": {
          "base_uri": "https://localhost:8080/",
          "height": 265
        },
        "id": "TLTpko2-khfo",
        "outputId": "8e719a1e-7094-49b9-ea1f-34be1d151103"
      },
      "source": [
        "#sin함수 적분하기\n",
        "xd=np.arange(0,np.pi,0.02)\n",
        "nlen=len(xd) \n",
        "hh=0.02\n",
        "ff=np.sin(xd) \n",
        "\n",
        "sf = np.zeros(nlen)   #적분값. 작게 자른걸 연속해서 합할때 그 값 집어넣음\n",
        "tmp = 0\n",
        "for ii in range(nlen):   #0부터 157까지\n",
        "  tmp += ff[ii]*hh    #ff:sin함수, hh:밑변. 158개의 작은 사각형\n",
        "  sf[ii]=tmp    #sf 각 영역에 누적시킨 값 넣음. ii에는 0부터 x까지 저장됨\n",
        "\n",
        "#print(sf[0])\n",
        "#print(sf[nlen-1])\n",
        "\n",
        "plt.plot(xd,sf)\n",
        "plt.show()"
      ],
      "execution_count": null,
      "outputs": [
        {
          "output_type": "display_data",
          "data": {
            "image/png": "[encoded data removed]",
            "text/plain": [
              "<Figure size 432x288 with 1 Axes>"
            ]
          },
          "metadata": {
            "tags": [],
            "needs_background": "light"
          }
        }
      ]
    },
    {
      "cell_type": "markdown",
      "metadata": {
        "id": "EfE94On5mCBe"
      },
      "source": [
        "#새 함수 지정하기 (Def)"
      ]
    },
    {
      "cell_type": "code",
      "metadata": {
        "colab": {
          "base_uri": "https://localhost:8080/"
        },
        "id": "HWj16jhimIa2",
        "outputId": "58e18ab7-e6e2-4945-857d-e93208a7bf5e"
      },
      "source": [
        "def v_max(a,b=4):\n",
        "  #a,b가 들어오면 큰 걸 리턴하는걸 만들어 보자\n",
        "  if a>b :\n",
        "    return a\n",
        "  else: \n",
        "    return b\n",
        "\n",
        "a=3\n",
        "b=5\n",
        "print(v_max(a,b))\n",
        "#default 값은 b=4지만 뒤에서 b=5라고 선언햇음"
      ],
      "execution_count": null,
      "outputs": [
        {
          "output_type": "stream",
          "text": [
            "5\n"
          ],
          "name": "stdout"
        }
      ]
    },
    {
      "cell_type": "code",
      "metadata": {
        "colab": {
          "base_uri": "https://localhost:8080/"
        },
        "id": "bxbaN6xDmPZU",
        "outputId": "d8318b3f-0f41-4263-b457-a7e02cc3a656"
      },
      "source": [
        "def v_max(a,b=4):\n",
        "  c=5\n",
        "  print(c+b)\n",
        "  if a >= b :\n",
        "    return a\n",
        "  else : \n",
        "    return b\n",
        "\n",
        "\n",
        "a=3\n",
        "b=6\n",
        "c=10\n",
        "\n",
        "print(v_max(a,b))\n",
        "print(c)"
      ],
      "execution_count": null,
      "outputs": [
        {
          "output_type": "stream",
          "text": [
            "11\n",
            "6\n",
            "10\n"
          ],
          "name": "stdout"
        }
      ]
    }
  ]
}